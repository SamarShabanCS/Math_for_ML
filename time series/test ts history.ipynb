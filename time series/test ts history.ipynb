{
 "cells": [
  {
   "cell_type": "code",
   "execution_count": 2,
   "metadata": {},
   "outputs": [],
   "source": [
    "from statsmodels.tsa.arima_model import ARIMA"
   ]
  },
  {
   "cell_type": "code",
   "execution_count": 9,
   "metadata": {
    "scrolled": true
   },
   "outputs": [
    {
     "name": "stderr",
     "output_type": "stream",
     "text": [
      "/home/ubuntu/anaconda3/envs/tensorflow/lib/python3.6/site-packages/pandas/core/series.py:2890: FutureWarning: from_csv is deprecated. Please use read_csv(...) instead. Note that some of the default arguments are different, so please refer to the documentation for from_csv when changing your function calls\n",
      "  infer_datetime_format=infer_datetime_format)\n",
      "/home/ubuntu/anaconda3/envs/tensorflow/lib/python3.6/site-packages/statsmodels/tsa/base/tsa_model.py:225: ValueWarning: A date index has been provided, but it has no associated frequency information and so will be ignored when e.g. forecasting.\n",
      "  ' ignored when e.g. forecasting.', ValueWarning)\n"
     ]
    },
    {
     "name": "stdout",
     "output_type": "stream",
     "text": [
      "                                                    ARMA Model Results                                                   \n",
      "=========================================================================================================================\n",
      "Dep. Variable:     Daily minimum temperatures in Melbourne, Australia, 1981-1990   No. Observations:                 3285\n",
      "Model:                                                                ARMA(7, 0)   Log Likelihood               -7621.078\n",
      "Method:                                                                  css-mle   S.D. of innovations              2.461\n",
      "Date:                                                           Fri, 14 Dec 2018   AIC                          15258.156\n",
      "Time:                                                                   03:48:33   BIC                          15306.933\n",
      "Sample:                                                                        0   HQIC                         15275.621\n",
      "                                                                                                                         \n",
      "=======================================================================================================================================\n",
      "                                                                          coef    std err          z      P>|z|      [0.025      0.975]\n",
      "---------------------------------------------------------------------------------------------------------------------------------------\n",
      "ar.L1.Daily minimum temperatures in Melbourne, Australia, 1981-1990     0.6507      0.017     37.578      0.000       0.617       0.685\n",
      "ar.L2.Daily minimum temperatures in Melbourne, Australia, 1981-1990    -0.0734      0.021     -3.547      0.000      -0.114      -0.033\n",
      "ar.L3.Daily minimum temperatures in Melbourne, Australia, 1981-1990     0.0845      0.021      4.084      0.000       0.044       0.125\n",
      "ar.L4.Daily minimum temperatures in Melbourne, Australia, 1981-1990     0.0805      0.021      3.892      0.000       0.040       0.121\n",
      "ar.L5.Daily minimum temperatures in Melbourne, Australia, 1981-1990     0.0687      0.021      3.323      0.001       0.028       0.109\n",
      "ar.L6.Daily minimum temperatures in Melbourne, Australia, 1981-1990     0.0579      0.021      2.799      0.005       0.017       0.098\n",
      "ar.L7.Daily minimum temperatures in Melbourne, Australia, 1981-1990     0.1230      0.017      7.105      0.000       0.089       0.157\n",
      "                                    Roots                                    \n",
      "=============================================================================\n",
      "                  Real          Imaginary           Modulus         Frequency\n",
      "-----------------------------------------------------------------------------\n",
      "AR.1            1.0030           -0.0000j            1.0030           -0.0000\n",
      "AR.2            0.8188           -0.9983j            1.2911           -0.1407\n",
      "AR.3            0.8188           +0.9983j            1.2911            0.1407\n",
      "AR.4           -0.1904           -1.4128j            1.4256           -0.2713\n",
      "AR.5           -0.1904           +1.4128j            1.4256            0.2713\n",
      "AR.6           -1.3651           -0.7271j            1.5467           -0.4221\n",
      "AR.7           -1.3651           +0.7271j            1.5467            0.4221\n",
      "-----------------------------------------------------------------------------\n"
     ]
    }
   ],
   "source": [
    "# fit an ARIMA model\n",
    "from pandas import Series\n",
    "from matplotlib import pyplot\n",
    "from statsmodels.tsa.arima_model import ARIMA\n",
    "# load dataset\n",
    "series = Series.from_csv('daily-minimum-temperatures.csv', header=0)\n",
    "# seasonal difference\n",
    "differenced = series.diff(365)\n",
    "# trim off the first year of empty data\n",
    "differenced = series[365:]\n",
    "# fit model\n",
    "model = ARIMA(differenced, order=(7,0,0))\n",
    "model_fit = model.fit(trend='nc', disp=0)\n",
    "print(model_fit.summary())"
   ]
  },
  {
   "cell_type": "code",
   "execution_count": 10,
   "metadata": {},
   "outputs": [
    {
     "name": "stderr",
     "output_type": "stream",
     "text": [
      "/home/ubuntu/anaconda3/envs/tensorflow/lib/python3.6/site-packages/pandas/core/series.py:2890: FutureWarning: from_csv is deprecated. Please use read_csv(...) instead. Note that some of the default arguments are different, so please refer to the documentation for from_csv when changing your function calls\n",
      "  infer_datetime_format=infer_datetime_format)\n"
     ]
    },
    {
     "name": "stdout",
     "output_type": "stream",
     "text": [
      "1989-1989 (365 values) RMSE: 3.120\n"
     ]
    },
    {
     "name": "stderr",
     "output_type": "stream",
     "text": [
      "/home/ubuntu/anaconda3/envs/tensorflow/lib/python3.6/site-packages/statsmodels/base/model.py:508: ConvergenceWarning: Maximum Likelihood optimization failed to converge. Check mle_retvals\n",
      "  \"Check mle_retvals\", ConvergenceWarning)\n"
     ]
    },
    {
     "name": "stdout",
     "output_type": "stream",
     "text": [
      "1989-1988 (730 values) RMSE: 3.109\n",
      "1989-1987 (1095 values) RMSE: 3.104\n",
      "1989-1986 (1460 values) RMSE: 3.108\n",
      "1989-1985 (1825 values) RMSE: 3.107\n",
      "1989-1984 (2190 values) RMSE: 3.103\n",
      "1989-1983 (2555 values) RMSE: 3.099\n",
      "1989-1982 (2920 values) RMSE: 3.096\n"
     ]
    }
   ],
   "source": [
    "# fit an ARIMA model\n",
    "from pandas import Series\n",
    "from matplotlib import pyplot\n",
    "from statsmodels.tsa.arima_model import ARIMA\n",
    "from sklearn.metrics import mean_squared_error\n",
    "from math import sqrt\n",
    "# load dataset\n",
    "series = Series.from_csv('daily-minimum-temperatures.csv', header=0)\n",
    "# seasonal difference\n",
    "differenced = series.diff(365)\n",
    "# trim off the first year of empty data\n",
    "differenced = differenced[365:]\n",
    "# split\n",
    "train, test = differenced[differenced.index < '1990'], differenced['1990']\n",
    "years = ['1989', '1988', '1987', '1986', '1985', '1984', '1983', '1982']\n",
    "for year in years:\n",
    "\t# select data from 'year' cumulative to 1989\n",
    "\tdataset = train[train.index >= year]\n",
    "\t# walk forward over time steps in test\n",
    "\tvalues = dataset.values\n",
    "\thistory = [values[i] for i in range(len(values))]\n",
    "\tpredictions = list()\n",
    "\ttest_values = test.values\n",
    "\tfor t in range(len(test_values)):\n",
    "\t\t# fit model\n",
    "\t\tmodel = ARIMA(history, order=(7,0,0))\n",
    "\t\tmodel_fit = model.fit(trend='nc', disp=0)\n",
    "\t\t# make prediction\n",
    "\t\tyhat = model_fit.forecast()[0]\n",
    "\t\tpredictions.append(yhat)\n",
    "\t\thistory.append(test_values[t])\n",
    "\trmse = sqrt(mean_squared_error(test_values, predictions))\n",
    "\tprint('%s-%s (%d values) RMSE: %.3f' % (years[0], year, len(values), rmse))"
   ]
  },
  {
   "cell_type": "code",
   "execution_count": null,
   "metadata": {},
   "outputs": [],
   "source": []
  }
 ],
 "metadata": {
  "kernelspec": {
   "display_name": "Python 3",
   "language": "python",
   "name": "python3"
  },
  "language_info": {
   "codemirror_mode": {
    "name": "ipython",
    "version": 3
   },
   "file_extension": ".py",
   "mimetype": "text/x-python",
   "name": "python",
   "nbconvert_exporter": "python",
   "pygments_lexer": "ipython3",
   "version": "3.6.4"
  }
 },
 "nbformat": 4,
 "nbformat_minor": 2
}
