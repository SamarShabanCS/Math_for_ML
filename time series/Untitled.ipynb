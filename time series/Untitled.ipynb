{
 "cells": [
  {
   "cell_type": "markdown",
   "metadata": {},
   "source": [
    "# Time Series (referred as TS from now)"
   ]
  },
  {
   "cell_type": "markdown",
   "metadata": {},
   "source": [
    "## Agenda:\n",
    "1- What makes Time Series Special?\n",
    "\n",
    "2- Loading and Handling Time Series in Pandas\n",
    "\n",
    "3- How to Check Stationarity of a Time Series?\n",
    "\n",
    "4- How to make a Time Series Stationary?\n",
    "\n",
    "5- Forecasting a Time Series"
   ]
  },
  {
   "cell_type": "markdown",
   "metadata": {},
   "source": [
    "##### 1. What makes Time Series Special?   \n",
    "  \n",
    "    1. It is time dependent. So the basic assumption of a linear regression model that the observations \n",
    "    are independent doesn’t hold in this case.\n",
    "    \n",
    "    2. Along with an increasing or decreasing trend, most TS have some form of seasonality trends,\n",
    "    i.e. variations specific to a particular time frame. For example, if you see the sales of\n",
    "    a woolen jacket over time, you will invariably find higher sales in winter seasons.\n",
    "    \n",
    "Because of the inherent properties of a TS, there are various steps involved in analyzing it.    "
   ]
  },
  {
   "cell_type": "markdown",
   "metadata": {},
   "source": [
    "##### 2. Loading and Handling Time Series in Pandas"
   ]
  },
  {
   "cell_type": "markdown",
   "metadata": {},
   "source": [
    "Pandas has dedicated libraries for handling TS objects, particularly the datatime64[ns] class which stores time information and allows us to perform some operations really fast."
   ]
  },
  {
   "cell_type": "code",
   "execution_count": 2,
   "metadata": {},
   "outputs": [],
   "source": [
    "import pandas as pd\n",
    "import numpy as np\n",
    "import matplotlib.pylab as plt\n",
    "%matplotlib inline\n",
    "from matplotlib.pylab import rcParams\n",
    "rcParams['figure.figsize'] = 15, 6"
   ]
  },
  {
   "cell_type": "markdown",
   "metadata": {},
   "source": [
    "Now, we can load the data set and look at some initial rows and data types of the columns"
   ]
  },
  {
   "cell_type": "code",
   "execution_count": 8,
   "metadata": {},
   "outputs": [
    {
     "name": "stdout",
     "output_type": "stream",
     "text": [
      "   1949-01  112\n",
      "0  1949-02  118\n",
      "1  1949-03  132\n",
      "2  1949-04  129\n",
      "3  1949-05  121\n",
      "4  1949-06  135\n",
      "\n",
      " Data Types:\n",
      "1949-01    object\n",
      "112         int64\n",
      "dtype: object\n"
     ]
    }
   ],
   "source": [
    "data = pd.read_csv('passenger.csv')\n",
    "print (data.head())\n",
    "print ('\\n Data Types:')\n",
    "print (data.dtypes)"
   ]
  },
  {
   "cell_type": "markdown",
   "metadata": {},
   "source": [
    "---\n",
    "this is still not read as a TS object as the data types are ‘object’ and ‘int’. In order to read the data as a time series, we have to pass special arguments to the read_csv command"
   ]
  },
  {
   "cell_type": "code",
   "execution_count": 12,
   "metadata": {},
   "outputs": [
    {
     "name": "stdout",
     "output_type": "stream",
     "text": [
      "            passenger_num\n",
      "Month                    \n",
      "1949-01-01            112\n",
      "1949-02-01            118\n",
      "1949-03-01            132\n",
      "1949-04-01            129\n",
      "1949-05-01            121\n"
     ]
    }
   ],
   "source": [
    "dateparse = lambda dates: pd.datetime.strptime(dates, '%Y-%m')\n",
    "data = pd.read_csv('passenger.csv', parse_dates=['Month'], index_col='Month',date_parser=dateparse)\n",
    "\n",
    "print (data.head())"
   ]
  },
  {
   "cell_type": "markdown",
   "metadata": {},
   "source": [
    "##### the new command arguments:    \n",
    "    1. parse_dates: This specifies the column which contains the date-time information. As we say above, \n",
    "    the column name is ‘Month’.\n",
    "    \n",
    "    2. index_col: A key idea behind using Pandas for TS data is that the index has to be the variable      depicting date-time information. So this argument tells pandas to use the ‘Month’ column as index.\n",
    "    \n",
    "    3. date_parser: This specifies a function which converts an input string into datetime variable.\n",
    "    Be default Pandas reads data in format ‘YYYY-MM-DD HH:MM:SS’. If the data is not in this format,\n",
    "    the format has to be manually defined. Something similar to the dataparse function defined here can be used for this purpose."
   ]
  },
  {
   "cell_type": "code",
   "execution_count": null,
   "metadata": {},
   "outputs": [],
   "source": []
  }
 ],
 "metadata": {
  "kernelspec": {
   "display_name": "Python 3",
   "language": "python",
   "name": "python3"
  },
  "language_info": {
   "codemirror_mode": {
    "name": "ipython",
    "version": 3
   },
   "file_extension": ".py",
   "mimetype": "text/x-python",
   "name": "python",
   "nbconvert_exporter": "python",
   "pygments_lexer": "ipython3",
   "version": "3.6.7"
  }
 },
 "nbformat": 4,
 "nbformat_minor": 2
}
